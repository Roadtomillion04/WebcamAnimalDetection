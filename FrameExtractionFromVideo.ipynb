{
  "nbformat": 4,
  "nbformat_minor": 0,
  "metadata": {
    "colab": {
      "provenance": []
    },
    "kernelspec": {
      "name": "python3",
      "display_name": "Python 3"
    },
    "language_info": {
      "name": "python"
    }
  },
  "cells": [
    {
      "cell_type": "code",
      "execution_count": null,
      "metadata": {
        "id": "sMlGwzYuWPoX"
      },
      "outputs": [],
      "source": [
        "import cv2"
      ]
    },
    {
      "cell_type": "code",
      "source": [
        "# get video info\n",
        "video = cv2.VideoCapture(\"/content/Facts About Sloth Bears.mp4\")\n",
        "\n",
        "\n",
        "print(video.get(cv2.CAP_PROP_FRAME_WIDTH)) # width\n",
        "print(video.get(cv2.CAP_PROP_FRAME_HEIGHT)) # height\n",
        "print(video.get(cv2.CAP_PROP_FRAME_COUNT))  # total frame count\n",
        "print(video.get(cv2.CAP_PROP_FPS)) # frame per second"
      ],
      "metadata": {
        "colab": {
          "base_uri": "https://localhost:8080/"
        },
        "id": "qWkutCmoXQBX",
        "outputId": "985fa1fc-52e9-49f8-ca08-0a946c3d62bf"
      },
      "execution_count": null,
      "outputs": [
        {
          "output_type": "stream",
          "name": "stdout",
          "text": [
            "640.0\n",
            "360.0\n",
            "3164.0\n",
            "25.0\n"
          ]
        }
      ]
    },
    {
      "cell_type": "code",
      "source": [
        "from google.colab import drive\n",
        "drive.mount('/content/drive')"
      ],
      "metadata": {
        "colab": {
          "base_uri": "https://localhost:8080/"
        },
        "id": "2azI-7v8SxYi",
        "outputId": "1575334e-6e45-446e-c35d-0aebf6522d2c"
      },
      "execution_count": null,
      "outputs": [
        {
          "output_type": "stream",
          "name": "stdout",
          "text": [
            "Mounted at /content/drive\n"
          ]
        }
      ]
    },
    {
      "cell_type": "code",
      "source": [
        "3190/60"
      ],
      "metadata": {
        "colab": {
          "base_uri": "https://localhost:8080/"
        },
        "id": "6_6nofEDGncQ",
        "outputId": "948f6e93-888c-4c0f-b3d9-70eb1a949e3f"
      },
      "execution_count": null,
      "outputs": [
        {
          "output_type": "execute_result",
          "data": {
            "text/plain": [
              "53.166666666666664"
            ]
          },
          "metadata": {},
          "execution_count": 1
        }
      ]
    },
    {
      "cell_type": "code",
      "source": [
        "video.read() # returns label, numpy array"
      ],
      "metadata": {
        "colab": {
          "base_uri": "https://localhost:8080/"
        },
        "id": "mdVCzkT3cIgo",
        "outputId": "8b799d43-7e00-4492-d271-e4c8d4614b26"
      },
      "execution_count": null,
      "outputs": [
        {
          "output_type": "execute_result",
          "data": {
            "text/plain": [
              "(True, array([[[8, 3, 4],\n",
              "         [8, 3, 4],\n",
              "         [8, 3, 4],\n",
              "         ...,\n",
              "         [3, 0, 2],\n",
              "         [3, 0, 2],\n",
              "         [3, 0, 2]],\n",
              " \n",
              "        [[8, 3, 4],\n",
              "         [8, 3, 4],\n",
              "         [8, 3, 4],\n",
              "         ...,\n",
              "         [3, 0, 2],\n",
              "         [3, 0, 2],\n",
              "         [3, 0, 2]],\n",
              " \n",
              "        [[8, 3, 4],\n",
              "         [8, 3, 4],\n",
              "         [8, 3, 4],\n",
              "         ...,\n",
              "         [3, 0, 2],\n",
              "         [3, 0, 2],\n",
              "         [3, 0, 2]],\n",
              " \n",
              "        ...,\n",
              " \n",
              "        [[1, 0, 4],\n",
              "         [1, 0, 4],\n",
              "         [1, 0, 4],\n",
              "         ...,\n",
              "         [8, 3, 2],\n",
              "         [8, 3, 2],\n",
              "         [8, 3, 2]],\n",
              " \n",
              "        [[1, 0, 4],\n",
              "         [1, 0, 4],\n",
              "         [1, 0, 4],\n",
              "         ...,\n",
              "         [8, 3, 2],\n",
              "         [8, 3, 2],\n",
              "         [8, 3, 2]],\n",
              " \n",
              "        [[1, 0, 4],\n",
              "         [1, 0, 4],\n",
              "         [1, 0, 4],\n",
              "         ...,\n",
              "         [8, 3, 2],\n",
              "         [8, 3, 2],\n",
              "         [8, 3, 2]]], dtype=uint8))"
            ]
          },
          "metadata": {},
          "execution_count": 4
        }
      ]
    },
    {
      "cell_type": "code",
      "source": [
        "# extracting all frames from video\n",
        "import time\n",
        "\n",
        "frame_exists, frame = video.read()\n",
        "directory = \"images2\"\n",
        "\n",
        "count: int = 1\n",
        "while frame_exists:\n",
        "    cv2.imwrite(f\"{directory}/{count}.jpg\", frame)\n",
        "    frame_exists, frame = video.read()\n",
        "\n",
        "    count += 1"
      ],
      "metadata": {
        "id": "dfC-K-r0YEaj"
      },
      "execution_count": null,
      "outputs": []
    },
    {
      "cell_type": "code",
      "source": [
        "# for loop - range limit min max\n",
        "# while loop - undefined"
      ],
      "metadata": {
        "id": "cKlSvJUpHGIQ"
      },
      "execution_count": null,
      "outputs": []
    },
    {
      "cell_type": "code",
      "source": [],
      "metadata": {
        "id": "JMgIGhiLHQt3"
      },
      "execution_count": null,
      "outputs": []
    },
    {
      "cell_type": "code",
      "source": [
        "# Extracting specific time stamps of video\n",
        "\n",
        "fps = video.get(cv2.CAP_PROP_FPS)\n",
        "\n",
        "seconds_count = 0\n",
        "img_name = 280 # keeping number consistency\n",
        "minute_count = 0\n",
        "\n",
        "while True:\n",
        "\n",
        "    if seconds_count > 60:\n",
        "        seconds_count = 0 # resetting seconds to 0\n",
        "        minute_count += 1 # increasing minute by 1\n",
        "\n",
        "    time_stamp: str = f'00:{minute_count}:{seconds_count}.00' # 1 sec\n",
        "    timestamp_list = time_stamp.split(':')\n",
        "\n",
        "    # converting list of str to floats\n",
        "    timestamp_float = [float(i) for i in timestamp_list]\n",
        "    hours, minutes, seconds = timestamp_float\n",
        "\n",
        "    # delay time with respect to secs\n",
        "    delay_timer: float = hours * 3600 * fps + minutes * 60 * fps + seconds * 1 * fps\n",
        "\n",
        "    video.set(propId= 1, value= delay_timer)\n",
        "    success, frame = video.read()\n",
        "\n",
        "    if not success: # when out of frame\n",
        "        break\n",
        "\n",
        "    cv2.imwrite(f\"/content/drive/MyDrive/Sloth Bear/{img_name}.jpg\", frame)\n",
        "    seconds_count += 1\n",
        "    img_name += 1"
      ],
      "metadata": {
        "id": "6OXTz23rhiXy"
      },
      "execution_count": null,
      "outputs": []
    },
    {
      "cell_type": "code",
      "source": [
        "img_name"
      ],
      "metadata": {
        "colab": {
          "base_uri": "https://localhost:8080/"
        },
        "id": "l8vaBeeiU581",
        "outputId": "10eefbf6-14bb-4ced-ded7-797fb8404f1d"
      },
      "execution_count": null,
      "outputs": [
        {
          "output_type": "execute_result",
          "data": {
            "text/plain": [
              "409"
            ]
          },
          "metadata": {},
          "execution_count": 18
        }
      ]
    }
  ]
}